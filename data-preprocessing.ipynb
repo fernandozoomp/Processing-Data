{
 "cells": [
  {
   "cell_type": "markdown",
   "metadata": {},
   "source": [
    "# Data Preprocessing - why is it important?\n",
    "\n",
    "The main focus of this project is to show few __techniques__ that have been used in __data science projects__.\n",
    "<br><br>\n",
    "The techniques that we are going to use are:\n",
    "<br>\n",
    "<p>1-Case alignment</p>\n",
    "<p>2-Tokenization</p>\n",
    "<p>3-Stopwords removal</p>\n",
    "<p>4-Stemming</p>\n",
    "<p>5-Lemmatization</p>"
   ]
  },
  {
   "cell_type": "markdown",
   "metadata": {},
   "source": [
    "## Collecting the data\n",
    "\n",
    "We are going to use this pdf archive* as the source of all the preprocessing implementation: alex.smola.org/drafts/thebook.pdf. _(By the way, very great content!)_\n",
    "<br>\n",
    "<sub>*Not the entire pdf, just two pages, because the main objective of this notebook is to show the techniques.</sub>\n",
    "<br><br><br>\n",
    "For this, we will use the pdftotext library that provide support for the text extraction for pdf files.\n",
    "\n",
    "In case you want to test this project by your own, you will need to download [the pdf file](https://alex.smola.org/drafts/thebook.pdf) that I've used and update the <code>path</code> variable with the directory where the file is in your computer."
   ]
  },
  {
   "cell_type": "code",
   "execution_count": 160,
   "metadata": {},
   "outputs": [
    {
     "name": "stdout",
     "output_type": "stream",
     "text": [
      "                                       1\n",
      "                               Introduction\n",
      "Over the past two decades Machine Learning has become one of the main-\n",
      "stays of information technology and with that, a rather central, albeit usually\n",
      "hidden, part of our life. With the ever increasing amounts of data becoming\n",
      "available there is good reason to believe that smart data analysis will become\n",
      "even more pervasive as a necessary ingredient for technological progress.\n",
      "   The purpose of this chapter is to provide the reader with an overview over\n",
      "the vast range of applications which have at their heart a machine learning\n",
      "problem and to bring some degree of order to the zoo of problems. After\n",
      "that, we will discuss some basic tools from statistics and probability theory,\n",
      "since they form the language in which many machine learning problems must\n",
      "be phrased to become amenable to solving. Finally, we will outline a set of\n",
      "fairly basic yet effective algorithms to solve an important problem, namely\n",
      "that of classification. More sophisticated tools, a discussion of more general\n",
      "problems and a detailed analysis will follow in later parts of the book.\n",
      "1.1 A Taste of Machine Learning\n",
      "Machine learning can appear in many guises. We now discuss a number of\n",
      "applications, the types of data they deal with, and finally, we formalize the\n",
      "problems in a somewhat more stylized fashion. The latter is key if we want to\n",
      "avoid reinventing the wheel for every new application. Instead, much of the\n",
      "art of machine learning is to reduce a range of fairly disparate problems to\n",
      "a set of fairly narrow prototypes. Much of the science of machine learning is\n",
      "then to solve those problems and provide good guarantees for the solutions.\n",
      "1.1.1 Applications\n",
      "Most readers will be familiar with the concept of web page ranking. That\n",
      "is, the process of submitting a query to a search engine, which then finds\n",
      "webpages relevant to the query and which returns them in their order of\n",
      "relevance. See e.g. Figure 1.1 for an example of the query results for “ma-\n",
      "chine learning”. That is, the search engine returns a sorted list of webpages\n",
      "given a query. To achieve this goal, a search engine needs to ‘know’ which\n",
      "                                                                              3\n",
      "\n"
     ]
    }
   ],
   "source": [
    "import pdftotext\n",
    "import io\n",
    "\n",
    "pages = ''\n",
    "dict = {}\n",
    "path = \"/home/miohana/thebook.pdf\"\n",
    "\n",
    "fileObject = open(path, 'rb')\n",
    "pdf = pdftotext.PDF(fileObject)\n",
    "\n",
    "#we just wanted the page 11\n",
    "for index, page in enumerate(pdf, 1):    \n",
    "    if (index == 11):\n",
    "        pages += str(page) \n",
    "        dict[index] = page\n",
    "        break\n",
    "\n",
    "result = pages\n",
    "print(result)"
   ]
  },
  {
   "cell_type": "markdown",
   "metadata": {},
   "source": [
    "## 1 - Case alignment\n",
    "\n",
    "Avoid duplicated words - <code>Computer</code> and <code>computer</code> have the same meaning."
   ]
  },
  {
   "cell_type": "code",
   "execution_count": 161,
   "metadata": {},
   "outputs": [],
   "source": [
    "result = result.lower()"
   ]
  },
  {
   "cell_type": "markdown",
   "metadata": {},
   "source": [
    "## Removing \"Introduction\" word and the summary titles  - isn't necessary\n",
    "For this, we need to find starting index for the word \"over\", because that is the on that the text will start with."
   ]
  },
  {
   "cell_type": "code",
   "execution_count": 162,
   "metadata": {},
   "outputs": [
    {
     "name": "stdout",
     "output_type": "stream",
     "text": [
      "85\n"
     ]
    }
   ],
   "source": [
    "print(result.find('over'))"
   ]
  },
  {
   "cell_type": "code",
   "execution_count": 163,
   "metadata": {},
   "outputs": [
    {
     "name": "stdout",
     "output_type": "stream",
     "text": [
      "over the past two decades machine learning has become one of the main-\n",
      "stays of information technology and with that, a rather central, albeit usually\n",
      "hidden, part of our life. with the ever increasing amounts of data becoming\n",
      "available there is good reason to believe that smart data analysis will become\n",
      "even more pervasive as a necessary ingredient for technological progress.\n",
      "   the purpose of this chapter is to provide the reader with an overview over\n",
      "the vast range of applications which have at their heart a machine learning\n",
      "problem and to bring some degree of order to the zoo of problems. after\n",
      "that, we will discuss some basic tools from statistics and probability theory,\n",
      "since they form the language in which many machine learning problems must\n",
      "be phrased to become amenable to solving. finally, we will outline a set of\n",
      "fairly basic yet effective algorithms to solve an important problem, namely\n",
      "that of classification. more sophisticated tools, a discussion of more general\n",
      "problems and a detailed analysis will follow in later parts of the book.\n",
      "1.1 a taste of machine learning\n",
      "machine learning can appear in many guises. we now discuss a number of\n",
      "applications, the types of data they deal with, and finally, we formalize the\n",
      "problems in a somewhat more stylized fashion. the latter is key if we want to\n",
      "avoid reinventing the wheel for every new application. instead, much of the\n",
      "art of machine learning is to reduce a range of fairly disparate problems to\n",
      "a set of fairly narrow prototypes. much of the science of machine learning is\n",
      "then to solve those problems and provide good guarantees for the solutions.\n",
      "1.1.1 applications\n",
      "most readers will be familiar with the concept of web page ranking. that\n",
      "is, the process of submitting a query to a search engine, which then finds\n",
      "webpages relevant to the query and which returns them in their order of\n",
      "relevance. see e.g. figure 1.1 for an example of the query results for “ma-\n",
      "chine learning”. that is, the search engine returns a sorted list of webpages\n",
      "given a query. to achieve this goal, a search engine needs to ‘know’ which\n",
      "                                                                              3\n",
      "\n"
     ]
    }
   ],
   "source": [
    "print(result[85:])\n",
    "result = result[85:]"
   ]
  },
  {
   "cell_type": "code",
   "execution_count": 165,
   "metadata": {},
   "outputs": [],
   "source": [
    "result = result.replace('1.1 a taste of machine learning', '')"
   ]
  },
  {
   "cell_type": "code",
   "execution_count": 166,
   "metadata": {},
   "outputs": [],
   "source": [
    "result = result.replace('1.1.1 applications', '')"
   ]
  },
  {
   "cell_type": "code",
   "execution_count": 167,
   "metadata": {},
   "outputs": [
    {
     "name": "stdout",
     "output_type": "stream",
     "text": [
      "over the past two decades machine learning has become one of the main-\n",
      "stays of information technology and with that, a rather central, albeit usually\n",
      "hidden, part of our life. with the ever increasing amounts of data becoming\n",
      "available there is good reason to believe that smart data analysis will become\n",
      "even more pervasive as a necessary ingredient for technological progress.\n",
      "   the purpose of this chapter is to provide the reader with an overview over\n",
      "the vast range of applications which have at their heart a machine learning\n",
      "problem and to bring some degree of order to the zoo of problems. after\n",
      "that, we will discuss some basic tools from statistics and probability theory,\n",
      "since they form the language in which many machine learning problems must\n",
      "be phrased to become amenable to solving. finally, we will outline a set of\n",
      "fairly basic yet effective algorithms to solve an important problem, namely\n",
      "that of classification. more sophisticated tools, a discussion of more general\n",
      "problems and a detailed analysis will follow in later parts of the book.\n",
      "\n",
      "machine learning can appear in many guises. we now discuss a number of\n",
      "applications, the types of data they deal with, and finally, we formalize the\n",
      "problems in a somewhat more stylized fashion. the latter is key if we want to\n",
      "avoid reinventing the wheel for every new application. instead, much of the\n",
      "art of machine learning is to reduce a range of fairly disparate problems to\n",
      "a set of fairly narrow prototypes. much of the science of machine learning is\n",
      "then to solve those problems and provide good guarantees for the solutions.\n",
      "\n",
      "most readers will be familiar with the concept of web page ranking. that\n",
      "is, the process of submitting a query to a search engine, which then finds\n",
      "webpages relevant to the query and which returns them in their order of\n",
      "relevance. see e.g. figure 1.1 for an example of the query results for “ma-\n",
      "chine learning”. that is, the search engine returns a sorted list of webpages\n",
      "given a query. to achieve this goal, a search engine needs to ‘know’ which\n",
      "                                                                              3\n",
      "\n"
     ]
    }
   ],
   "source": [
    "print(result)"
   ]
  },
  {
   "cell_type": "markdown",
   "metadata": {},
   "source": [
    "### Also, we don't want the final phrase of the text. And the page."
   ]
  },
  {
   "cell_type": "code",
   "execution_count": 168,
   "metadata": {},
   "outputs": [
    {
     "name": "stdout",
     "output_type": "stream",
     "text": [
      "1988\n"
     ]
    }
   ],
   "source": [
    "print(result.find('to achieve this goal'))"
   ]
  },
  {
   "cell_type": "code",
   "execution_count": 169,
   "metadata": {},
   "outputs": [
    {
     "name": "stdout",
     "output_type": "stream",
     "text": [
      "over the past two decades machine learning has become one of the main-\n",
      "stays of information technology and with that, a rather central, albeit usually\n",
      "hidden, part of our life. with the ever increasing amounts of data becoming\n",
      "available there is good reason to believe that smart data analysis will become\n",
      "even more pervasive as a necessary ingredient for technological progress.\n",
      "   the purpose of this chapter is to provide the reader with an overview over\n",
      "the vast range of applications which have at their heart a machine learning\n",
      "problem and to bring some degree of order to the zoo of problems. after\n",
      "that, we will discuss some basic tools from statistics and probability theory,\n",
      "since they form the language in which many machine learning problems must\n",
      "be phrased to become amenable to solving. finally, we will outline a set of\n",
      "fairly basic yet effective algorithms to solve an important problem, namely\n",
      "that of classification. more sophisticated tools, a discussion of more general\n",
      "problems and a detailed analysis will follow in later parts of the book.\n",
      "\n",
      "machine learning can appear in many guises. we now discuss a number of\n",
      "applications, the types of data they deal with, and finally, we formalize the\n",
      "problems in a somewhat more stylized fashion. the latter is key if we want to\n",
      "avoid reinventing the wheel for every new application. instead, much of the\n",
      "art of machine learning is to reduce a range of fairly disparate problems to\n",
      "a set of fairly narrow prototypes. much of the science of machine learning is\n",
      "then to solve those problems and provide good guarantees for the solutions.\n",
      "\n",
      "most readers will be familiar with the concept of web page ranking. that\n",
      "is, the process of submitting a query to a search engine, which then finds\n",
      "webpages relevant to the query and which returns them in their order of\n",
      "relevance. see e.g. figure 1.1 for an example of the query results for “ma-\n",
      "chine learning”. that is, the search engine returns a sorted list of webpages\n",
      "given a query. \n"
     ]
    }
   ],
   "source": [
    "print(result[:1988])\n",
    "result = result[:1988]"
   ]
  },
  {
   "cell_type": "markdown",
   "metadata": {},
   "source": [
    "## 2 - Tokenization (by sentence)"
   ]
  },
  {
   "cell_type": "code",
   "execution_count": 170,
   "metadata": {},
   "outputs": [],
   "source": [
    "from nltk.tokenize import sent_tokenize\n",
    "from nltk.corpus import stopwords\n",
    "\n",
    "tokens_by_sentence = ''\n",
    "\n",
    "tokens_by_sentence = sent_tokenize(result)\n",
    "tokens_by_sentence = [w.replace('\\n', ' ').replace('- ', '') for w in tokens_by_sentence]"
   ]
  },
  {
   "cell_type": "code",
   "execution_count": 171,
   "metadata": {},
   "outputs": [
    {
     "name": "stdout",
     "output_type": "stream",
     "text": [
      "['over the past two decades machine learning has become one of the mainstays of information technology and with that, a rather central, albeit usually hidden, part of our life.', 'with the ever increasing amounts of data becoming available there is good reason to believe that smart data analysis will become even more pervasive as a necessary ingredient for technological progress.', 'the purpose of this chapter is to provide the reader with an overview over the vast range of applications which have at their heart a machine learning problem and to bring some degree of order to the zoo of problems.', 'after that, we will discuss some basic tools from statistics and probability theory, since they form the language in which many machine learning problems must be phrased to become amenable to solving.', 'finally, we will outline a set of fairly basic yet effective algorithms to solve an important problem, namely that of classification.', 'more sophisticated tools, a discussion of more general problems and a detailed analysis will follow in later parts of the book.', 'machine learning can appear in many guises.', 'we now discuss a number of applications, the types of data they deal with, and finally, we formalize the problems in a somewhat more stylized fashion.', 'the latter is key if we want to avoid reinventing the wheel for every new application.', 'instead, much of the art of machine learning is to reduce a range of fairly disparate problems to a set of fairly narrow prototypes.', 'much of the science of machine learning is then to solve those problems and provide good guarantees for the solutions.', 'most readers will be familiar with the concept of web page ranking.', 'that is, the process of submitting a query to a search engine, which then finds webpages relevant to the query and which returns them in their order of relevance.', 'see e.g.', 'figure 1.1 for an example of the query results for “machine learning”.', 'that is, the search engine returns a sorted list of webpages given a query.']\n"
     ]
    }
   ],
   "source": [
    "print(tokens_by_sentence)"
   ]
  },
  {
   "cell_type": "markdown",
   "metadata": {},
   "source": [
    "## 2 - Tokenization (by word)"
   ]
  },
  {
   "cell_type": "code",
   "execution_count": 172,
   "metadata": {},
   "outputs": [],
   "source": [
    "from nltk.tokenize import word_tokenize\n",
    "\n",
    "tokens_by_word = ''\n",
    "\n",
    "tokens_by_word = word_tokenize(result)\n",
    "tokens_by_word = [w.replace('\\n', ' ').replace('- ', '') for w in tokens_by_word]"
   ]
  },
  {
   "cell_type": "code",
   "execution_count": 173,
   "metadata": {},
   "outputs": [
    {
     "name": "stdout",
     "output_type": "stream",
     "text": [
      "['over', 'the', 'past', 'two', 'decades', 'machine', 'learning', 'has', 'become', 'one', 'of', 'the', 'main-', 'stays', 'of', 'information', 'technology', 'and', 'with', 'that', ',', 'a', 'rather', 'central', ',', 'albeit', 'usually', 'hidden', ',', 'part', 'of', 'our', 'life', '.', 'with', 'the', 'ever', 'increasing', 'amounts', 'of', 'data', 'becoming', 'available', 'there', 'is', 'good', 'reason', 'to', 'believe', 'that', 'smart', 'data', 'analysis', 'will', 'become', 'even', 'more', 'pervasive', 'as', 'a', 'necessary', 'ingredient', 'for', 'technological', 'progress', '.', 'the', 'purpose', 'of', 'this', 'chapter', 'is', 'to', 'provide', 'the', 'reader', 'with', 'an', 'overview', 'over', 'the', 'vast', 'range', 'of', 'applications', 'which', 'have', 'at', 'their', 'heart', 'a', 'machine', 'learning', 'problem', 'and', 'to', 'bring', 'some', 'degree', 'of', 'order', 'to', 'the', 'zoo', 'of', 'problems', '.', 'after', 'that', ',', 'we', 'will', 'discuss', 'some', 'basic', 'tools', 'from', 'statistics', 'and', 'probability', 'theory', ',', 'since', 'they', 'form', 'the', 'language', 'in', 'which', 'many', 'machine', 'learning', 'problems', 'must', 'be', 'phrased', 'to', 'become', 'amenable', 'to', 'solving', '.', 'finally', ',', 'we', 'will', 'outline', 'a', 'set', 'of', 'fairly', 'basic', 'yet', 'effective', 'algorithms', 'to', 'solve', 'an', 'important', 'problem', ',', 'namely', 'that', 'of', 'classification', '.', 'more', 'sophisticated', 'tools', ',', 'a', 'discussion', 'of', 'more', 'general', 'problems', 'and', 'a', 'detailed', 'analysis', 'will', 'follow', 'in', 'later', 'parts', 'of', 'the', 'book', '.', 'machine', 'learning', 'can', 'appear', 'in', 'many', 'guises', '.', 'we', 'now', 'discuss', 'a', 'number', 'of', 'applications', ',', 'the', 'types', 'of', 'data', 'they', 'deal', 'with', ',', 'and', 'finally', ',', 'we', 'formalize', 'the', 'problems', 'in', 'a', 'somewhat', 'more', 'stylized', 'fashion', '.', 'the', 'latter', 'is', 'key', 'if', 'we', 'want', 'to', 'avoid', 'reinventing', 'the', 'wheel', 'for', 'every', 'new', 'application', '.', 'instead', ',', 'much', 'of', 'the', 'art', 'of', 'machine', 'learning', 'is', 'to', 'reduce', 'a', 'range', 'of', 'fairly', 'disparate', 'problems', 'to', 'a', 'set', 'of', 'fairly', 'narrow', 'prototypes', '.', 'much', 'of', 'the', 'science', 'of', 'machine', 'learning', 'is', 'then', 'to', 'solve', 'those', 'problems', 'and', 'provide', 'good', 'guarantees', 'for', 'the', 'solutions', '.', 'most', 'readers', 'will', 'be', 'familiar', 'with', 'the', 'concept', 'of', 'web', 'page', 'ranking', '.', 'that', 'is', ',', 'the', 'process', 'of', 'submitting', 'a', 'query', 'to', 'a', 'search', 'engine', ',', 'which', 'then', 'finds', 'webpages', 'relevant', 'to', 'the', 'query', 'and', 'which', 'returns', 'them', 'in', 'their', 'order', 'of', 'relevance', '.', 'see', 'e.g', '.', 'figure', '1.1', 'for', 'an', 'example', 'of', 'the', 'query', 'results', 'for', '“', 'ma-', 'chine', 'learning', '”', '.', 'that', 'is', ',', 'the', 'search', 'engine', 'returns', 'a', 'sorted', 'list', 'of', 'webpages', 'given', 'a', 'query', '.']\n"
     ]
    }
   ],
   "source": [
    "print(tokens_by_word)"
   ]
  },
  {
   "cell_type": "markdown",
   "metadata": {},
   "source": [
    "## 3 - Stopwords removal"
   ]
  },
  {
   "cell_type": "code",
   "execution_count": 174,
   "metadata": {},
   "outputs": [
    {
     "name": "stdout",
     "output_type": "stream",
     "text": [
      "['i', 'me', 'my', 'myself', 'we', 'our', 'ours', 'ourselves', 'you', \"you're\", \"you've\", \"you'll\", \"you'd\", 'your', 'yours', 'yourself', 'yourselves', 'he', 'him', 'his', 'himself', 'she', \"she's\", 'her', 'hers', 'herself', 'it', \"it's\", 'its', 'itself', 'they', 'them', 'their', 'theirs', 'themselves', 'what', 'which', 'who', 'whom', 'this', 'that', \"that'll\", 'these', 'those', 'am', 'is', 'are', 'was', 'were', 'be', 'been', 'being', 'have', 'has', 'had', 'having', 'do', 'does', 'did', 'doing', 'a', 'an', 'the', 'and', 'but', 'if', 'or', 'because', 'as', 'until', 'while', 'of', 'at', 'by', 'for', 'with', 'about', 'against', 'between', 'into', 'through', 'during', 'before', 'after', 'above', 'below', 'to', 'from', 'up', 'down', 'in', 'out', 'on', 'off', 'over', 'under', 'again', 'further', 'then', 'once', 'here', 'there', 'when', 'where', 'why', 'how', 'all', 'any', 'both', 'each', 'few', 'more', 'most', 'other', 'some', 'such', 'no', 'nor', 'not', 'only', 'own', 'same', 'so', 'than', 'too', 'very', 's', 't', 'can', 'will', 'just', 'don', \"don't\", 'should', \"should've\", 'now', 'd', 'll', 'm', 'o', 're', 've', 'y', 'ain', 'aren', \"aren't\", 'couldn', \"couldn't\", 'didn', \"didn't\", 'doesn', \"doesn't\", 'hadn', \"hadn't\", 'hasn', \"hasn't\", 'haven', \"haven't\", 'isn', \"isn't\", 'ma', 'mightn', \"mightn't\", 'mustn', \"mustn't\", 'needn', \"needn't\", 'shan', \"shan't\", 'shouldn', \"shouldn't\", 'wasn', \"wasn't\", 'weren', \"weren't\", 'won', \"won't\", 'wouldn', \"wouldn't\"]\n"
     ]
    }
   ],
   "source": [
    "print(stopwords.words('english'))"
   ]
  },
  {
   "cell_type": "code",
   "execution_count": 175,
   "metadata": {},
   "outputs": [
    {
     "name": "stdout",
     "output_type": "stream",
     "text": [
      "['de', 'a', 'o', 'que', 'e', 'do', 'da', 'em', 'um', 'para']\n"
     ]
    }
   ],
   "source": [
    "print(stopwords.words('portuguese')[:10])"
   ]
  },
  {
   "cell_type": "code",
   "execution_count": 176,
   "metadata": {},
   "outputs": [],
   "source": [
    "def remove_stopwords(text):\n",
    "    stopWords = stopwords.words('english')\n",
    "    not_stopword = [word for word in text if not word in stopWords]\n",
    "    return not_stopword\n",
    "\n",
    "result = remove_stopwords(tokens_by_word)"
   ]
  },
  {
   "cell_type": "code",
   "execution_count": 177,
   "metadata": {},
   "outputs": [
    {
     "name": "stdout",
     "output_type": "stream",
     "text": [
      "['past', 'two', 'decades', 'machine', 'learning', 'become', 'one', 'main-', 'stays', 'information', 'technology', ',', 'rather', 'central', ',', 'albeit', 'usually', 'hidden', ',', 'part', 'life', '.', 'ever', 'increasing', 'amounts', 'data', 'becoming', 'available', 'good', 'reason', 'believe', 'smart', 'data', 'analysis', 'become', 'even', 'pervasive', 'necessary', 'ingredient', 'technological', 'progress', '.', 'purpose', 'chapter', 'provide', 'reader', 'overview', 'vast', 'range', 'applications', 'heart', 'machine', 'learning', 'problem', 'bring', 'degree', 'order', 'zoo', 'problems', '.', ',', 'discuss', 'basic', 'tools', 'statistics', 'probability', 'theory', ',', 'since', 'form', 'language', 'many', 'machine', 'learning', 'problems', 'must', 'phrased', 'become', 'amenable', 'solving', '.', 'finally', ',', 'outline', 'set', 'fairly', 'basic', 'yet', 'effective', 'algorithms', 'solve', 'important', 'problem', ',', 'namely', 'classification', '.', 'sophisticated', 'tools', ',', 'discussion', 'general', 'problems', 'detailed', 'analysis', 'follow', 'later', 'parts', 'book', '.', 'machine', 'learning', 'appear', 'many', 'guises', '.', 'discuss', 'number', 'applications', ',', 'types', 'data', 'deal', ',', 'finally', ',', 'formalize', 'problems', 'somewhat', 'stylized', 'fashion', '.', 'latter', 'key', 'want', 'avoid', 'reinventing', 'wheel', 'every', 'new', 'application', '.', 'instead', ',', 'much', 'art', 'machine', 'learning', 'reduce', 'range', 'fairly', 'disparate', 'problems', 'set', 'fairly', 'narrow', 'prototypes', '.', 'much', 'science', 'machine', 'learning', 'solve', 'problems', 'provide', 'good', 'guarantees', 'solutions', '.', 'readers', 'familiar', 'concept', 'web', 'page', 'ranking', '.', ',', 'process', 'submitting', 'query', 'search', 'engine', ',', 'finds', 'webpages', 'relevant', 'query', 'returns', 'order', 'relevance', '.', 'see', 'e.g', '.', 'figure', '1.1', 'example', 'query', 'results', '“', 'ma-', 'chine', 'learning', '”', '.', ',', 'search', 'engine', 'returns', 'sorted', 'list', 'webpages', 'given', 'query', '.']\n"
     ]
    }
   ],
   "source": [
    "print(result)"
   ]
  },
  {
   "cell_type": "markdown",
   "metadata": {},
   "source": [
    "## 4 - Stemming\n",
    "\n",
    "For Non-English projects (such as portuguese), a good library is __RSLP Stemmer__.\n",
    "<br>\n",
    "For our purpose, we will use the __SnowballStemmer__ that provides a great support for the english language.\n",
    "<br><br>\n",
    "We need to remember that we have a lot of libraries that have similar functionalities. The right thing to do is to test each one to make sure we choose the one with the best result.\n",
    "<br>\n",
    "Examples of other stemmers:\n",
    "* PorterStemmer (English)\n",
    "* LancasterStemmer (English)\n",
    "* ISRIStemmer (Arabic)\n",
    "* RSLPSTemmer (Portuguese)"
   ]
  },
  {
   "cell_type": "code",
   "execution_count": 194,
   "metadata": {},
   "outputs": [
    {
     "name": "stdout",
     "output_type": "stream",
     "text": [
      "['over', 'the', 'past', 'two', 'decad', 'machin', 'learn', 'has', 'becom', 'one', 'of', 'the', 'main-', 'stay', 'of', 'inform', 'technolog', 'and', 'with', 'that', ',', 'a', 'rather', 'central', ',', 'albeit', 'usual', 'hidden', ',', 'part', 'of', 'our', 'life', '.', 'with', 'the', 'ever', 'increas', 'amount', 'of', 'data', 'becom', 'avail', 'there', 'is', 'good', 'reason', 'to', 'believ', 'that']\n"
     ]
    }
   ],
   "source": [
    "from nltk.stem.snowball import SnowballStemmer\n",
    "\n",
    "englishStemmer = SnowballStemmer('english')\n",
    "\n",
    "words = [word for word in result if word.isalpha()]\n",
    "\n",
    "stemmed = [englishStemmer.stem(word) for word in tokens_by_word]\n",
    "print(stemmed[:50])"
   ]
  },
  {
   "cell_type": "markdown",
   "metadata": {},
   "source": [
    "## 5 - Lemmatization"
   ]
  },
  {
   "cell_type": "code",
   "execution_count": 197,
   "metadata": {},
   "outputs": [
    {
     "name": "stdout",
     "output_type": "stream",
     "text": [
      "['over', 'the', 'past', 'two', 'decades', 'machine', 'learn', 'have', 'become', 'one', 'of', 'the', 'main-', 'stay', 'of', 'information', 'technology', 'and', 'with', 'that', ',', 'a', 'rather', 'central', ',', 'albeit', 'usually', 'hide', ',', 'part', 'of', 'our', 'life', '.', 'with', 'the', 'ever', 'increase', 'amount', 'of', 'data', 'become', 'available', 'there', 'be', 'good', 'reason', 'to', 'believe', 'that']\n"
     ]
    }
   ],
   "source": [
    "from nltk.stem import WordNetLemmatizer\n",
    "\n",
    "wordnet_lemmatizer = WordNetLemmatizer()\n",
    "\n",
    "lemmatized = [wordnet_lemmatizer.lemmatize(word, pos=\"v\") for word in tokens_by_word]\n",
    "print(lemmatized[:50])"
   ]
  }
 ],
 "metadata": {
  "kernelspec": {
   "display_name": "Python 3",
   "language": "python",
   "name": "python3"
  },
  "language_info": {
   "codemirror_mode": {
    "name": "ipython",
    "version": 3
   },
   "file_extension": ".py",
   "mimetype": "text/x-python",
   "name": "python",
   "nbconvert_exporter": "python",
   "pygments_lexer": "ipython3",
   "version": "3.6.8"
  }
 },
 "nbformat": 4,
 "nbformat_minor": 2
}
